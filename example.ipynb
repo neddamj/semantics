{
 "cells": [
  {
   "cell_type": "code",
   "execution_count": 2,
   "id": "9acf440f",
   "metadata": {},
   "outputs": [
    {
     "name": "stdout",
     "output_type": "stream",
     "text": [
      "Input image shape: torch.Size([4, 3, 32, 32])\n",
      "Encoded image shape: torch.Size([4, 64, 32])\n",
      "Channel output shape: torch.Size([4, 64, 32])\n",
      "Output image shape: torch.Size([4, 3, 32, 32])\n",
      "Pipeline output shape: torch.Size([4, 3, 32, 32])\n"
     ]
    }
   ],
   "source": [
    "from semantics.vision.encoder import WITTEncoder\n",
    "from semantics.vision.decoder import WITTDecoder\n",
    "from semantics.vision.models.witt import WITTransformer\n",
    "from semantics.vision.channels import RayleighNoiseChannel, GaussianNoiseChannel, ErrorFreeChannel\n",
    "from semantics.pipeline import Pipeline\n",
    "\n",
    "import torch\n",
    "\n",
    "# Configuration parameters\n",
    "batch_size = 4\n",
    "dim = 64\n",
    "img_size = 32\n",
    "patch_size = 2\n",
    "window_size = 4\n",
    "num_heads = 4\n",
    "modulation = True\n",
    "num_channels = 3\n",
    "channel_mean = 0.0\n",
    "channel_std = 0.1\n",
    "channel_snr = None\n",
    "channel_avg_power = None\n",
    "\n",
    "encoder_cfg = {\n",
    "    'img_size': img_size, \n",
    "    'patch_size': patch_size, \n",
    "    'embed_dims': [64, 128],\n",
    "    'depths': [2, 2],\n",
    "    'num_heads': [4, 8], \n",
    "    'C_out': 32, \n",
    "    'window_size': 4, \n",
    "    'use_modulation': modulation,\n",
    "    'in_chans': num_channels\n",
    "}\n",
    "\n",
    "decoder_cfg = {\n",
    "    'img_size': img_size, \n",
    "    'patch_size': patch_size, \n",
    "    'embed_dims': [128, 64],\n",
    "    'depths': [2, 2], \n",
    "    'num_heads': [8, 4], \n",
    "    'C_in': 32, \n",
    "    'window_size': 4, \n",
    "    'use_modulation': modulation,\n",
    "    'out_chans': num_channels\n",
    "}\n",
    "\n",
    "channel_config = {\n",
    "    'mean': channel_mean,\n",
    "    'std': channel_std,\n",
    "    'snr': channel_snr,\n",
    "    'avg_power': channel_avg_power\n",
    "}\n",
    "\n",
    "device = torch.device('cuda' if torch.cuda.is_available() else 'cpu')\n",
    "\n",
    "encoder = WITTEncoder(**encoder_cfg).to(device)\n",
    "decoder = WITTDecoder(**decoder_cfg).to(device)\n",
    "channel = ErrorFreeChannel(**channel_config).to(device)\n",
    "pipeline = Pipeline(encoder, channel, decoder).to(device)\n",
    "\n",
    "# Semantic Communication Example\n",
    "input_image = torch.randn(batch_size, num_channels, img_size, img_size).to(device)\n",
    "with torch.no_grad():\n",
    "    # Run image through the entire pipeline step-by-step\n",
    "    encoded_img = encoder(input_image)\n",
    "    channel_out = channel(encoded_img)\n",
    "    output_image = decoder(channel_out)\n",
    "\n",
    "    # Run image through the entire pipeline at once\n",
    "    pipeline_out = pipeline(input_image)\n",
    "\n",
    "print(\"Input image shape:\", input_image.shape)\n",
    "print(\"Encoded image shape:\", encoded_img.shape)\n",
    "print(\"Channel output shape:\", channel_out.shape)\n",
    "print(\"Output image shape:\", output_image.shape)\n",
    "print(\"Pipeline output shape:\", pipeline_out.shape)"
   ]
  },
  {
   "cell_type": "code",
   "execution_count": null,
   "id": "4202edfc",
   "metadata": {},
   "outputs": [],
   "source": [
    "torch.all(output_image == pipeline_out)  # Should be True"
   ]
  }
 ],
 "metadata": {
  "kernelspec": {
   "display_name": "semantics",
   "language": "python",
   "name": "python3"
  },
  "language_info": {
   "codemirror_mode": {
    "name": "ipython",
    "version": 3
   },
   "file_extension": ".py",
   "mimetype": "text/x-python",
   "name": "python",
   "nbconvert_exporter": "python",
   "pygments_lexer": "ipython3",
   "version": "3.12.11"
  }
 },
 "nbformat": 4,
 "nbformat_minor": 5
}
