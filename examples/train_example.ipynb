{
 "cells": [
  {
   "cell_type": "code",
   "execution_count": 1,
   "id": "9c1fbf85",
   "metadata": {},
   "outputs": [
    {
     "name": "stderr",
     "output_type": "stream",
     "text": [
      "/home/jmadden2/anaconda3/envs/semantics/lib/python3.12/site-packages/tqdm/auto.py:21: TqdmWarning: IProgress not found. Please update jupyter and ipywidgets. See https://ipywidgets.readthedocs.io/en/stable/user_install.html\n",
      "  from .autonotebook import tqdm as notebook_tqdm\n",
      "                                                                                    \r"
     ]
    },
    {
     "name": "stdout",
     "output_type": "stream",
     "text": [
      "[epoch 000] epoch=0.0000 train_loss=0.1634 val_loss=0.1287 val_psnr=15.3452 val_ssim=0.1725\n"
     ]
    },
    {
     "name": "stderr",
     "output_type": "stream",
     "text": [
      "                                                                                    \r"
     ]
    },
    {
     "name": "stdout",
     "output_type": "stream",
     "text": [
      "[epoch 001] epoch=1.0000 train_loss=0.1108 val_loss=0.0957 val_psnr=17.6315 val_ssim=0.3478\n"
     ]
    },
    {
     "name": "stderr",
     "output_type": "stream",
     "text": [
      "                                                                                    \r"
     ]
    },
    {
     "name": "stdout",
     "output_type": "stream",
     "text": [
      "[epoch 002] epoch=2.0000 train_loss=0.0885 val_loss=0.0823 val_psnr=18.7788 val_ssim=0.4477\n"
     ]
    },
    {
     "name": "stderr",
     "output_type": "stream",
     "text": [
      "                                                                                    \r"
     ]
    },
    {
     "name": "stdout",
     "output_type": "stream",
     "text": [
      "[epoch 003] epoch=3.0000 train_loss=0.0789 val_loss=0.0752 val_psnr=19.5340 val_ssim=0.5012\n"
     ]
    },
    {
     "name": "stderr",
     "output_type": "stream",
     "text": [
      "                                                                                    \r"
     ]
    },
    {
     "name": "stdout",
     "output_type": "stream",
     "text": [
      "[epoch 004] epoch=4.0000 train_loss=0.0736 val_loss=0.0711 val_psnr=19.9875 val_ssim=0.5414\n"
     ]
    },
    {
     "name": "stderr",
     "output_type": "stream",
     "text": [
      "                                                                                    \r"
     ]
    },
    {
     "name": "stdout",
     "output_type": "stream",
     "text": [
      "[epoch 005] epoch=5.0000 train_loss=0.0700 val_loss=0.0712 val_psnr=20.0768 val_ssim=0.5791\n"
     ]
    },
    {
     "name": "stderr",
     "output_type": "stream",
     "text": [
      "                                                                                    \r"
     ]
    },
    {
     "name": "stdout",
     "output_type": "stream",
     "text": [
      "[epoch 006] epoch=6.0000 train_loss=0.0674 val_loss=0.0662 val_psnr=20.5457 val_ssim=0.5924\n"
     ]
    },
    {
     "name": "stderr",
     "output_type": "stream",
     "text": [
      "                                                                                    \r"
     ]
    },
    {
     "name": "stdout",
     "output_type": "stream",
     "text": [
      "[epoch 007] epoch=7.0000 train_loss=0.0653 val_loss=0.0645 val_psnr=20.7951 val_ssim=0.6060\n"
     ]
    },
    {
     "name": "stderr",
     "output_type": "stream",
     "text": [
      "                                                                                    \r"
     ]
    },
    {
     "name": "stdout",
     "output_type": "stream",
     "text": [
      "[epoch 008] epoch=8.0000 train_loss=0.0637 val_loss=0.0631 val_psnr=20.9551 val_ssim=0.6227\n"
     ]
    },
    {
     "name": "stderr",
     "output_type": "stream",
     "text": [
      "                                                                                     \r"
     ]
    },
    {
     "name": "stdout",
     "output_type": "stream",
     "text": [
      "[epoch 009] epoch=9.0000 train_loss=0.0622 val_loss=0.0631 val_psnr=21.0019 val_ssim=0.6361\n"
     ]
    },
    {
     "name": "stderr",
     "output_type": "stream",
     "text": [
      "                                                                                     \r"
     ]
    },
    {
     "name": "stdout",
     "output_type": "stream",
     "text": [
      "[epoch 010] epoch=10.0000 train_loss=0.0611 val_loss=0.0607 val_psnr=21.2968 val_ssim=0.6392\n"
     ]
    },
    {
     "name": "stderr",
     "output_type": "stream",
     "text": [
      "                                                                                     \r"
     ]
    },
    {
     "name": "stdout",
     "output_type": "stream",
     "text": [
      "[epoch 011] epoch=11.0000 train_loss=0.0602 val_loss=0.0598 val_psnr=21.3899 val_ssim=0.6489\n"
     ]
    },
    {
     "name": "stderr",
     "output_type": "stream",
     "text": [
      "                                                                                     \r"
     ]
    },
    {
     "name": "stdout",
     "output_type": "stream",
     "text": [
      "[epoch 012] epoch=12.0000 train_loss=0.0593 val_loss=0.0593 val_psnr=21.5129 val_ssim=0.6528\n"
     ]
    },
    {
     "name": "stderr",
     "output_type": "stream",
     "text": [
      "                                                                                     \r"
     ]
    },
    {
     "name": "stdout",
     "output_type": "stream",
     "text": [
      "[epoch 013] epoch=13.0000 train_loss=0.0586 val_loss=0.0598 val_psnr=21.4665 val_ssim=0.6665\n"
     ]
    },
    {
     "name": "stderr",
     "output_type": "stream",
     "text": [
      "                                                                                     \r"
     ]
    },
    {
     "name": "stdout",
     "output_type": "stream",
     "text": [
      "[epoch 014] epoch=14.0000 train_loss=0.0581 val_loss=0.0580 val_psnr=21.6431 val_ssim=0.6664\n"
     ]
    },
    {
     "name": "stderr",
     "output_type": "stream",
     "text": [
      "                                                                                     \r"
     ]
    },
    {
     "name": "stdout",
     "output_type": "stream",
     "text": [
      "[epoch 015] epoch=15.0000 train_loss=0.0576 val_loss=0.0574 val_psnr=21.7495 val_ssim=0.6649\n"
     ]
    },
    {
     "name": "stderr",
     "output_type": "stream",
     "text": [
      "                                                                                     \r"
     ]
    },
    {
     "name": "stdout",
     "output_type": "stream",
     "text": [
      "[epoch 016] epoch=16.0000 train_loss=0.0571 val_loss=0.0570 val_psnr=21.8138 val_ssim=0.6686\n"
     ]
    },
    {
     "name": "stderr",
     "output_type": "stream",
     "text": [
      "                                                                                     \r"
     ]
    },
    {
     "name": "stdout",
     "output_type": "stream",
     "text": [
      "[epoch 017] epoch=17.0000 train_loss=0.0567 val_loss=0.0565 val_psnr=21.8632 val_ssim=0.6714\n"
     ]
    },
    {
     "name": "stderr",
     "output_type": "stream",
     "text": [
      "                                                                                     \r"
     ]
    },
    {
     "name": "stdout",
     "output_type": "stream",
     "text": [
      "[epoch 018] epoch=18.0000 train_loss=0.0565 val_loss=0.0562 val_psnr=21.9234 val_ssim=0.6749\n"
     ]
    },
    {
     "name": "stderr",
     "output_type": "stream",
     "text": [
      "                                                                                     \r"
     ]
    },
    {
     "name": "stdout",
     "output_type": "stream",
     "text": [
      "[epoch 019] epoch=19.0000 train_loss=0.0562 val_loss=0.0565 val_psnr=21.8783 val_ssim=0.6812\n"
     ]
    },
    {
     "name": "stderr",
     "output_type": "stream",
     "text": [
      "                                                                                     \r"
     ]
    },
    {
     "name": "stdout",
     "output_type": "stream",
     "text": [
      "[epoch 020] epoch=20.0000 train_loss=0.0558 val_loss=0.0560 val_psnr=21.9683 val_ssim=0.6778\n"
     ]
    },
    {
     "name": "stderr",
     "output_type": "stream",
     "text": [
      "                                                                                     \r"
     ]
    },
    {
     "name": "stdout",
     "output_type": "stream",
     "text": [
      "[epoch 021] epoch=21.0000 train_loss=0.0556 val_loss=0.0559 val_psnr=21.9655 val_ssim=0.6864\n"
     ]
    },
    {
     "name": "stderr",
     "output_type": "stream",
     "text": [
      "                                                                                     \r"
     ]
    },
    {
     "name": "stdout",
     "output_type": "stream",
     "text": [
      "[epoch 022] epoch=22.0000 train_loss=0.0552 val_loss=0.0553 val_psnr=22.0279 val_ssim=0.6869\n"
     ]
    },
    {
     "name": "stderr",
     "output_type": "stream",
     "text": [
      "                                                                                     \r"
     ]
    },
    {
     "name": "stdout",
     "output_type": "stream",
     "text": [
      "[epoch 023] epoch=23.0000 train_loss=0.0551 val_loss=0.0559 val_psnr=21.9479 val_ssim=0.6904\n"
     ]
    },
    {
     "name": "stderr",
     "output_type": "stream",
     "text": [
      "                                                                                     \r"
     ]
    },
    {
     "name": "stdout",
     "output_type": "stream",
     "text": [
      "[epoch 024] epoch=24.0000 train_loss=0.0547 val_loss=0.0550 val_psnr=22.0825 val_ssim=0.6929\n"
     ]
    },
    {
     "name": "stderr",
     "output_type": "stream",
     "text": [
      "                                                                                     \r"
     ]
    },
    {
     "name": "stdout",
     "output_type": "stream",
     "text": [
      "[epoch 025] epoch=25.0000 train_loss=0.0546 val_loss=0.0546 val_psnr=22.1188 val_ssim=0.6950\n"
     ]
    },
    {
     "name": "stderr",
     "output_type": "stream",
     "text": [
      "                                                                                     \r"
     ]
    },
    {
     "name": "stdout",
     "output_type": "stream",
     "text": [
      "[epoch 026] epoch=26.0000 train_loss=0.0543 val_loss=0.0557 val_psnr=22.0253 val_ssim=0.6950\n"
     ]
    },
    {
     "name": "stderr",
     "output_type": "stream",
     "text": [
      "                                                                                     \r"
     ]
    },
    {
     "name": "stdout",
     "output_type": "stream",
     "text": [
      "[epoch 027] epoch=27.0000 train_loss=0.0541 val_loss=0.0553 val_psnr=22.0937 val_ssim=0.6977\n"
     ]
    },
    {
     "name": "stderr",
     "output_type": "stream",
     "text": [
      "                                                                                     \r"
     ]
    },
    {
     "name": "stdout",
     "output_type": "stream",
     "text": [
      "[epoch 028] epoch=28.0000 train_loss=0.0540 val_loss=0.0542 val_psnr=22.1984 val_ssim=0.6953\n"
     ]
    },
    {
     "name": "stderr",
     "output_type": "stream",
     "text": [
      "                                                                                     \r"
     ]
    },
    {
     "name": "stdout",
     "output_type": "stream",
     "text": [
      "[epoch 029] epoch=29.0000 train_loss=0.0537 val_loss=0.0545 val_psnr=22.2046 val_ssim=0.7028\n"
     ]
    },
    {
     "name": "stderr",
     "output_type": "stream",
     "text": [
      "                                                                                     \r"
     ]
    },
    {
     "name": "stdout",
     "output_type": "stream",
     "text": [
      "[epoch 030] epoch=30.0000 train_loss=0.0536 val_loss=0.0546 val_psnr=22.1952 val_ssim=0.6970\n"
     ]
    },
    {
     "name": "stderr",
     "output_type": "stream",
     "text": [
      "                                                                                     \r"
     ]
    },
    {
     "name": "stdout",
     "output_type": "stream",
     "text": [
      "[epoch 031] epoch=31.0000 train_loss=0.0535 val_loss=0.0536 val_psnr=22.2635 val_ssim=0.7018\n"
     ]
    },
    {
     "name": "stderr",
     "output_type": "stream",
     "text": [
      "                                                                                     \r"
     ]
    },
    {
     "name": "stdout",
     "output_type": "stream",
     "text": [
      "[epoch 032] epoch=32.0000 train_loss=0.0533 val_loss=0.0536 val_psnr=22.3063 val_ssim=0.7002\n"
     ]
    },
    {
     "name": "stderr",
     "output_type": "stream",
     "text": [
      "                                                                                     \r"
     ]
    },
    {
     "name": "stdout",
     "output_type": "stream",
     "text": [
      "[epoch 033] epoch=33.0000 train_loss=0.0532 val_loss=0.0535 val_psnr=22.3189 val_ssim=0.7003\n"
     ]
    },
    {
     "name": "stderr",
     "output_type": "stream",
     "text": [
      "                                                                                     \r"
     ]
    },
    {
     "name": "stdout",
     "output_type": "stream",
     "text": [
      "[epoch 034] epoch=34.0000 train_loss=0.0530 val_loss=0.0532 val_psnr=22.3356 val_ssim=0.7039\n"
     ]
    },
    {
     "name": "stderr",
     "output_type": "stream",
     "text": [
      "                                                                                     \r"
     ]
    },
    {
     "name": "stdout",
     "output_type": "stream",
     "text": [
      "[epoch 035] epoch=35.0000 train_loss=0.0529 val_loss=0.0531 val_psnr=22.3546 val_ssim=0.7015\n"
     ]
    },
    {
     "name": "stderr",
     "output_type": "stream",
     "text": [
      "                                                                                     \r"
     ]
    },
    {
     "name": "stdout",
     "output_type": "stream",
     "text": [
      "[epoch 036] epoch=36.0000 train_loss=0.0527 val_loss=0.0530 val_psnr=22.3490 val_ssim=0.7081\n"
     ]
    },
    {
     "name": "stderr",
     "output_type": "stream",
     "text": [
      "                                                                                     \r"
     ]
    },
    {
     "name": "stdout",
     "output_type": "stream",
     "text": [
      "[epoch 037] epoch=37.0000 train_loss=0.0527 val_loss=0.0529 val_psnr=22.3754 val_ssim=0.7063\n"
     ]
    },
    {
     "name": "stderr",
     "output_type": "stream",
     "text": [
      "                                                                                     \r"
     ]
    },
    {
     "name": "stdout",
     "output_type": "stream",
     "text": [
      "[epoch 038] epoch=38.0000 train_loss=0.0525 val_loss=0.0534 val_psnr=22.3661 val_ssim=0.7070\n"
     ]
    },
    {
     "name": "stderr",
     "output_type": "stream",
     "text": [
      "                                                                                     \r"
     ]
    },
    {
     "name": "stdout",
     "output_type": "stream",
     "text": [
      "[epoch 039] epoch=39.0000 train_loss=0.0525 val_loss=0.0527 val_psnr=22.3960 val_ssim=0.7092\n"
     ]
    },
    {
     "name": "stderr",
     "output_type": "stream",
     "text": [
      "                                                                                     \r"
     ]
    },
    {
     "name": "stdout",
     "output_type": "stream",
     "text": [
      "[epoch 040] epoch=40.0000 train_loss=0.0523 val_loss=0.0528 val_psnr=22.4057 val_ssim=0.7073\n"
     ]
    },
    {
     "name": "stderr",
     "output_type": "stream",
     "text": [
      "                                                                                     \r"
     ]
    },
    {
     "name": "stdout",
     "output_type": "stream",
     "text": [
      "[epoch 041] epoch=41.0000 train_loss=0.0522 val_loss=0.0526 val_psnr=22.4378 val_ssim=0.7101\n"
     ]
    },
    {
     "name": "stderr",
     "output_type": "stream",
     "text": [
      "                                                                                     \r"
     ]
    },
    {
     "name": "stdout",
     "output_type": "stream",
     "text": [
      "[epoch 042] epoch=42.0000 train_loss=0.0521 val_loss=0.0523 val_psnr=22.4741 val_ssim=0.7076\n"
     ]
    },
    {
     "name": "stderr",
     "output_type": "stream",
     "text": [
      "                                                                                     \r"
     ]
    },
    {
     "name": "stdout",
     "output_type": "stream",
     "text": [
      "[epoch 043] epoch=43.0000 train_loss=0.0521 val_loss=0.0527 val_psnr=22.4559 val_ssim=0.7133\n"
     ]
    },
    {
     "name": "stderr",
     "output_type": "stream",
     "text": [
      "                                                                                     \r"
     ]
    },
    {
     "name": "stdout",
     "output_type": "stream",
     "text": [
      "[epoch 044] epoch=44.0000 train_loss=0.0519 val_loss=0.0526 val_psnr=22.4264 val_ssim=0.7129\n"
     ]
    },
    {
     "name": "stderr",
     "output_type": "stream",
     "text": [
      "                                                                                     \r"
     ]
    },
    {
     "name": "stdout",
     "output_type": "stream",
     "text": [
      "[epoch 045] epoch=45.0000 train_loss=0.0519 val_loss=0.0525 val_psnr=22.4945 val_ssim=0.7117\n"
     ]
    },
    {
     "name": "stderr",
     "output_type": "stream",
     "text": [
      "                                                                                     \r"
     ]
    },
    {
     "name": "stdout",
     "output_type": "stream",
     "text": [
      "[epoch 046] epoch=46.0000 train_loss=0.0517 val_loss=0.0527 val_psnr=22.4203 val_ssim=0.7165\n"
     ]
    },
    {
     "name": "stderr",
     "output_type": "stream",
     "text": [
      "                                                                                     \r"
     ]
    },
    {
     "name": "stdout",
     "output_type": "stream",
     "text": [
      "[epoch 047] epoch=47.0000 train_loss=0.0517 val_loss=0.0524 val_psnr=22.4786 val_ssim=0.7156\n"
     ]
    },
    {
     "name": "stderr",
     "output_type": "stream",
     "text": [
      "                                                                                     \r"
     ]
    },
    {
     "name": "stdout",
     "output_type": "stream",
     "text": [
      "[epoch 048] epoch=48.0000 train_loss=0.0516 val_loss=0.0519 val_psnr=22.5165 val_ssim=0.7164\n"
     ]
    },
    {
     "name": "stderr",
     "output_type": "stream",
     "text": [
      "                                                                                     "
     ]
    },
    {
     "name": "stdout",
     "output_type": "stream",
     "text": [
      "[epoch 049] epoch=49.0000 train_loss=0.0515 val_loss=0.0521 val_psnr=22.4993 val_ssim=0.7160\n"
     ]
    },
    {
     "name": "stderr",
     "output_type": "stream",
     "text": [
      "\r"
     ]
    }
   ],
   "source": [
    "import torch\n",
    "from torch.optim import Adam\n",
    "from torch.utils.data import DataLoader\n",
    "from torchvision import datasets, transforms\n",
    "\n",
    "from semantics.pipeline import Pipeline\n",
    "from semantics.train import Trainer, TrainerConfig\n",
    "import semantics.vision as sv\n",
    "\n",
    "# Build pipeline\n",
    "batch_size = 128\n",
    "dim = 64\n",
    "img_size = 32\n",
    "patch_size = 2\n",
    "window_size = 4\n",
    "num_heads = 4\n",
    "modulation = True\n",
    "num_channels = 3\n",
    "channel_mean = 0.0\n",
    "channel_std = 0.1\n",
    "channel_snr = None\n",
    "channel_avg_power = None\n",
    "\n",
    "device = torch.device('cuda' if torch.cuda.is_available() else 'cpu')\n",
    "\n",
    "encoder = sv.encoder.WITTEncoder(\n",
    "    img_size = img_size, \n",
    "    patch_size = patch_size, \n",
    "    embed_dims = [32, 64, 128, 256],\n",
    "    depths = [2, 2, 2, 2],\n",
    "    num_heads = [4, 8, 8, 8], \n",
    "    C_out = 32, \n",
    "    window_size = 4, \n",
    "    use_modulation = modulation,\n",
    "    in_chans = num_channels\n",
    ").to(device)\n",
    "\n",
    "decoder = sv.decoder.WITTDecoder(\n",
    "    img_size = img_size, \n",
    "    patch_size = patch_size, \n",
    "    embed_dims = [256, 128, 64, 32],\n",
    "    depths = [2, 2, 2, 2], \n",
    "    num_heads = [8, 8, 8, 4], \n",
    "    C_in = 32, \n",
    "    window_size = 4, \n",
    "    use_modulation = modulation,\n",
    "    out_chans = num_channels\n",
    ").to(device)\n",
    "\n",
    "channel = sv.channels.AWGNChannel(\n",
    "    mean = channel_mean,\n",
    "    std = channel_std,\n",
    "    snr = channel_snr,\n",
    "    avg_power = channel_avg_power\n",
    ").to(device)\n",
    "\n",
    "pipeline = Pipeline(encoder, channel, decoder).to(device)\n",
    "\n",
    "# Data\n",
    "transform = transforms.Compose([transforms.Resize((img_size, img_size)), transforms.ToTensor()])\n",
    "train_ds = datasets.CIFAR10(\"./data\", train=True,  download=True, transform=transform)\n",
    "val_ds   = datasets.CIFAR10(\"./data\", train=False, download=True, transform=transform)\n",
    "train_loader = DataLoader(train_ds, batch_size=batch_size, shuffle=True,  num_workers=4, pin_memory=True)\n",
    "val_loader   = DataLoader(val_ds,   batch_size=batch_size, shuffle=False, num_workers=4, pin_memory=True)\n",
    "\n",
    "# Optimizer and Loss\n",
    "optimizer = Adam(pipeline.parameters(), lr=3e-4)\n",
    "criterion = torch.nn.L1Loss()\n",
    "\n",
    "# Simple metrics\n",
    "metrics = {\n",
    "        \"psnr\": sv.metrics.PSNRMetric(),\n",
    "        'ssim': sv.metrics.SSIMMetric(data_range=1.0, size_average=True, channel=3)\n",
    "    }\n",
    "\n",
    "# Train\n",
    "cfg = TrainerConfig(\n",
    "    num_epochs=50,\n",
    "    learning_rate=3e-4,\n",
    "    use_amp=True,          # turn on mixed precision\n",
    "    amp_dtype=\"auto\",      # auto-select bf16/fp16\n",
    "    grad_accum_steps=1,    # increase if batches are small\n",
    "    clip_grad_norm=1.0,    # optional safety\n",
    "    compile_model=False,   # set True if PyTorch 2.x and stable graph\n",
    ")\n",
    "trainer = Trainer(\n",
    "    pipeline=pipeline,\n",
    "    optimizer=optimizer,\n",
    "    train_loader=train_loader,\n",
    "    val_loader=val_loader,\n",
    "    loss_fn=criterion,\n",
    "    config=cfg,\n",
    "    metrics=metrics,\n",
    ")\n",
    "trainer.train()"
   ]
  },
  {
   "cell_type": "code",
   "execution_count": 6,
   "id": "c21523cd",
   "metadata": {},
   "outputs": [
    {
     "data": {
      "image/png": "[encoded data removed]",
      "text/plain": [
       "<Figure size 1800x500 with 3 Axes>"
      ]
     },
     "metadata": {},
     "output_type": "display_data"
    }
   ],
   "source": [
    "history = trainer.history\n",
    "\n",
    "fig, axes = plt.subplots(1, 3, figsize=(18, 5))\n",
    "\n",
    "# Train & Val Loss\n",
    "axes[0].plot(history[\"train_loss\"], label=\"Train Loss\")\n",
    "axes[0].plot(history[\"val_loss\"], label=\"Val Loss\")\n",
    "axes[0].set_title(\"Loss\")\n",
    "axes[0].set_xlabel(\"Epoch\")\n",
    "axes[0].set_ylabel(\"Loss\")\n",
    "axes[0].legend()\n",
    "axes[0].grid()\n",
    "\n",
    "# PSNR\n",
    "axes[1].plot(history[\"val_psnr\"], label=\"Val PSNR\")\n",
    "axes[1].set_title(\"PSNR\")\n",
    "axes[1].set_xlabel(\"Epoch\")\n",
    "axes[1].set_ylabel(\"PSNR (dB)\")\n",
    "axes[1].legend()\n",
    "axes[1].grid()\n",
    "\n",
    "# SSIM\n",
    "axes[2].plot(history[\"val_ssim\"], label=\"Val SSIM\")\n",
    "axes[2].set_title(\"SSIM\")\n",
    "axes[2].set_xlabel(\"Epoch\")\n",
    "axes[2].set_ylabel(\"SSIM\")\n",
    "axes[2].legend()\n",
    "axes[2].grid()\n",
    "\n",
    "plt.tight_layout()\n",
    "plt.show()"
   ]
  },
  {
   "cell_type": "code",
   "execution_count": 5,
   "id": "be938af9",
   "metadata": {},
   "outputs": [
    {
     "data": {
      "image/png": "[encoded data removed]",
      "text/plain": [
       "<Figure size 600x1500 with 10 Axes>"
      ]
     },
     "metadata": {},
     "output_type": "display_data"
    }
   ],
   "source": [
    "import numpy as np\n",
    "\n",
    "# Get a batch of images from the validation loader\n",
    "images, _ = next(iter(val_loader))\n",
    "images = images.to(device)\n",
    "\n",
    "# Pass images through the pipeline\n",
    "ckpt_path = \"checkpoints/best.pt\"\n",
    "trainer.load(ckpt_path)\n",
    "pipeline = trainer.pipeline\n",
    "with torch.no_grad():\n",
    "    outputs = pipeline(images)\n",
    "\n",
    "# Move tensors to CPU and convert to numpy\n",
    "inputs_np = images.cpu().numpy()\n",
    "outputs_np = outputs.cpu().numpy()\n",
    "\n",
    "# Visualize first 5 images: input and output side by side\n",
    "fig, axes = plt.subplots(5, 2, figsize=(6, 15))\n",
    "for i in range(5):\n",
    "    # Input image\n",
    "    axes[i, 0].imshow(np.transpose(inputs_np[i], (1, 2, 0)))\n",
    "    axes[i, 0].set_title(\"Input\")\n",
    "    axes[i, 0].axis(\"off\")\n",
    "    # Output image\n",
    "    axes[i, 1].imshow(np.transpose(outputs_np[i], (1, 2, 0)))\n",
    "    axes[i, 1].set_title(\"Output\")\n",
    "    axes[i, 1].axis(\"off\")\n",
    "plt.tight_layout()\n",
    "plt.show()"
   ]
  },
  {
   "cell_type": "code",
   "execution_count": null,
   "id": "9c9a258e",
   "metadata": {},
   "outputs": [],
   "source": []
  }
 ],
 "metadata": {
  "kernelspec": {
   "display_name": "semantics",
   "language": "python",
   "name": "python3"
  },
  "language_info": {
   "codemirror_mode": {
    "name": "ipython",
    "version": 3
   },
   "file_extension": ".py",
   "mimetype": "text/x-python",
   "name": "python",
   "nbconvert_exporter": "python",
   "pygments_lexer": "ipython3",
   "version": "3.12.11"
  }
 },
 "nbformat": 4,
 "nbformat_minor": 5
}
