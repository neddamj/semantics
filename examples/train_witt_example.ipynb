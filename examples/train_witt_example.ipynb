{
 "cells": [
  {
   "cell_type": "code",
   "execution_count": 1,
   "id": "4e1732b8",
   "metadata": {},
   "outputs": [
    {
     "name": "stderr",
     "output_type": "stream",
     "text": [
      "/home/jmadden2/anaconda3/envs/semantics/lib/python3.12/site-packages/tqdm/auto.py:21: TqdmWarning: IProgress not found. Please update jupyter and ipywidgets. See https://ipywidgets.readthedocs.io/en/stable/user_install.html\n",
      "  from .autonotebook import tqdm as notebook_tqdm\n",
      "/home/jmadden2/anaconda3/envs/semantics/lib/python3.12/site-packages/timm/models/layers/__init__.py:48: FutureWarning: Importing from timm.models.layers is deprecated, please import via timm.layers\n",
      "  warnings.warn(f\"Importing from {__name__} is deprecated, please import via timm.layers\", FutureWarning)\n",
      "                                                                                    \r"
     ]
    },
    {
     "name": "stdout",
     "output_type": "stream",
     "text": [
      "[epoch 000] epoch=0.0000 train_loss=0.1616 val_loss=0.1321 val_psnr=15.1374 val_ssim=0.1776\n"
     ]
    },
    {
     "name": "stderr",
     "output_type": "stream",
     "text": [
      "                                                                                    \r"
     ]
    },
    {
     "name": "stdout",
     "output_type": "stream",
     "text": [
      "[epoch 001] epoch=1.0000 train_loss=0.1137 val_loss=0.1024 val_psnr=17.1305 val_ssim=0.3105\n"
     ]
    },
    {
     "name": "stderr",
     "output_type": "stream",
     "text": [
      "                                                                                    \r"
     ]
    },
    {
     "name": "stdout",
     "output_type": "stream",
     "text": [
      "[epoch 002] epoch=2.0000 train_loss=0.0941 val_loss=0.0883 val_psnr=18.3315 val_ssim=0.4114\n"
     ]
    },
    {
     "name": "stderr",
     "output_type": "stream",
     "text": [
      "                                                                                    \r"
     ]
    },
    {
     "name": "stdout",
     "output_type": "stream",
     "text": [
      "[epoch 003] epoch=3.0000 train_loss=0.0849 val_loss=0.0859 val_psnr=18.5472 val_ssim=0.4662\n"
     ]
    },
    {
     "name": "stderr",
     "output_type": "stream",
     "text": [
      "                                                                                    \r"
     ]
    },
    {
     "name": "stdout",
     "output_type": "stream",
     "text": [
      "[epoch 004] epoch=4.0000 train_loss=0.0803 val_loss=0.0785 val_psnr=19.2394 val_ssim=0.4987\n"
     ]
    },
    {
     "name": "stderr",
     "output_type": "stream",
     "text": [
      "                                                                                    \r"
     ]
    },
    {
     "name": "stdout",
     "output_type": "stream",
     "text": [
      "[epoch 005] epoch=5.0000 train_loss=0.0775 val_loss=0.0777 val_psnr=19.3985 val_ssim=0.5199\n"
     ]
    },
    {
     "name": "stderr",
     "output_type": "stream",
     "text": [
      "                                                                                    \r"
     ]
    },
    {
     "name": "stdout",
     "output_type": "stream",
     "text": [
      "[epoch 006] epoch=6.0000 train_loss=0.0754 val_loss=0.0756 val_psnr=19.5569 val_ssim=0.5425\n"
     ]
    },
    {
     "name": "stderr",
     "output_type": "stream",
     "text": [
      "                                                                                    \r"
     ]
    },
    {
     "name": "stdout",
     "output_type": "stream",
     "text": [
      "[epoch 007] epoch=7.0000 train_loss=0.0739 val_loss=0.0726 val_psnr=19.8679 val_ssim=0.5472\n"
     ]
    },
    {
     "name": "stderr",
     "output_type": "stream",
     "text": [
      "                                                                                    \r"
     ]
    },
    {
     "name": "stdout",
     "output_type": "stream",
     "text": [
      "[epoch 008] epoch=8.0000 train_loss=0.0725 val_loss=0.0721 val_psnr=19.9690 val_ssim=0.5595\n"
     ]
    },
    {
     "name": "stderr",
     "output_type": "stream",
     "text": [
      "                                                                                     \r"
     ]
    },
    {
     "name": "stdout",
     "output_type": "stream",
     "text": [
      "[epoch 009] epoch=9.0000 train_loss=0.0713 val_loss=0.0715 val_psnr=19.9926 val_ssim=0.5804\n"
     ]
    },
    {
     "name": "stderr",
     "output_type": "stream",
     "text": [
      "                                                                                     \r"
     ]
    },
    {
     "name": "stdout",
     "output_type": "stream",
     "text": [
      "[epoch 010] epoch=10.0000 train_loss=0.0704 val_loss=0.0699 val_psnr=20.2192 val_ssim=0.5772\n"
     ]
    },
    {
     "name": "stderr",
     "output_type": "stream",
     "text": [
      "                                                                                     \r"
     ]
    },
    {
     "name": "stdout",
     "output_type": "stream",
     "text": [
      "[epoch 011] epoch=11.0000 train_loss=0.0695 val_loss=0.0693 val_psnr=20.2837 val_ssim=0.5882\n"
     ]
    },
    {
     "name": "stderr",
     "output_type": "stream",
     "text": [
      "                                                                                     \r"
     ]
    },
    {
     "name": "stdout",
     "output_type": "stream",
     "text": [
      "[epoch 012] epoch=12.0000 train_loss=0.0688 val_loss=0.0690 val_psnr=20.3182 val_ssim=0.5934\n"
     ]
    },
    {
     "name": "stderr",
     "output_type": "stream",
     "text": [
      "                                                                                     \r"
     ]
    },
    {
     "name": "stdout",
     "output_type": "stream",
     "text": [
      "[epoch 013] epoch=13.0000 train_loss=0.0682 val_loss=0.0676 val_psnr=20.4764 val_ssim=0.5944\n"
     ]
    },
    {
     "name": "stderr",
     "output_type": "stream",
     "text": [
      "                                                                                     \r"
     ]
    },
    {
     "name": "stdout",
     "output_type": "stream",
     "text": [
      "[epoch 014] epoch=14.0000 train_loss=0.0675 val_loss=0.0674 val_psnr=20.5015 val_ssim=0.6037\n"
     ]
    },
    {
     "name": "stderr",
     "output_type": "stream",
     "text": [
      "                                                                                     \r"
     ]
    },
    {
     "name": "stdout",
     "output_type": "stream",
     "text": [
      "[epoch 015] epoch=15.0000 train_loss=0.0669 val_loss=0.0670 val_psnr=20.5616 val_ssim=0.6114\n"
     ]
    },
    {
     "name": "stderr",
     "output_type": "stream",
     "text": [
      "                                                                                     \r"
     ]
    },
    {
     "name": "stdout",
     "output_type": "stream",
     "text": [
      "[epoch 016] epoch=16.0000 train_loss=0.0665 val_loss=0.0660 val_psnr=20.6552 val_ssim=0.6115\n"
     ]
    },
    {
     "name": "stderr",
     "output_type": "stream",
     "text": [
      "                                                                                     \r"
     ]
    },
    {
     "name": "stdout",
     "output_type": "stream",
     "text": [
      "[epoch 017] epoch=17.0000 train_loss=0.0660 val_loss=0.0659 val_psnr=20.6949 val_ssim=0.6172\n"
     ]
    },
    {
     "name": "stderr",
     "output_type": "stream",
     "text": [
      "                                                                                     \r"
     ]
    },
    {
     "name": "stdout",
     "output_type": "stream",
     "text": [
      "[epoch 018] epoch=18.0000 train_loss=0.0655 val_loss=0.0654 val_psnr=20.7627 val_ssim=0.6213\n"
     ]
    },
    {
     "name": "stderr",
     "output_type": "stream",
     "text": [
      "                                                                                     \r"
     ]
    },
    {
     "name": "stdout",
     "output_type": "stream",
     "text": [
      "[epoch 019] epoch=19.0000 train_loss=0.0651 val_loss=0.0658 val_psnr=20.7666 val_ssim=0.6251\n"
     ]
    },
    {
     "name": "stderr",
     "output_type": "stream",
     "text": [
      "                                                                                     \r"
     ]
    },
    {
     "name": "stdout",
     "output_type": "stream",
     "text": [
      "[epoch 020] epoch=20.0000 train_loss=0.0647 val_loss=0.0646 val_psnr=20.8738 val_ssim=0.6296\n"
     ]
    },
    {
     "name": "stderr",
     "output_type": "stream",
     "text": [
      "                                                                                     \r"
     ]
    },
    {
     "name": "stdout",
     "output_type": "stream",
     "text": [
      "[epoch 021] epoch=21.0000 train_loss=0.0644 val_loss=0.0647 val_psnr=20.8278 val_ssim=0.6330\n"
     ]
    },
    {
     "name": "stderr",
     "output_type": "stream",
     "text": [
      "                                                                                     \r"
     ]
    },
    {
     "name": "stdout",
     "output_type": "stream",
     "text": [
      "[epoch 022] epoch=22.0000 train_loss=0.0641 val_loss=0.0640 val_psnr=20.9518 val_ssim=0.6322\n"
     ]
    },
    {
     "name": "stderr",
     "output_type": "stream",
     "text": [
      "                                                                                     \r"
     ]
    },
    {
     "name": "stdout",
     "output_type": "stream",
     "text": [
      "[epoch 023] epoch=23.0000 train_loss=0.0639 val_loss=0.0645 val_psnr=20.8602 val_ssim=0.6409\n"
     ]
    },
    {
     "name": "stderr",
     "output_type": "stream",
     "text": [
      "                                                                                     \r"
     ]
    },
    {
     "name": "stdout",
     "output_type": "stream",
     "text": [
      "[epoch 024] epoch=24.0000 train_loss=0.0636 val_loss=0.0638 val_psnr=20.9701 val_ssim=0.6416\n"
     ]
    },
    {
     "name": "stderr",
     "output_type": "stream",
     "text": [
      "                                                                                     \r"
     ]
    },
    {
     "name": "stdout",
     "output_type": "stream",
     "text": [
      "[epoch 025] epoch=25.0000 train_loss=0.0634 val_loss=0.0634 val_psnr=21.0052 val_ssim=0.6402\n"
     ]
    },
    {
     "name": "stderr",
     "output_type": "stream",
     "text": [
      "                                                                                     \r"
     ]
    },
    {
     "name": "stdout",
     "output_type": "stream",
     "text": [
      "[epoch 026] epoch=26.0000 train_loss=0.0632 val_loss=0.0633 val_psnr=21.0082 val_ssim=0.6434\n"
     ]
    },
    {
     "name": "stderr",
     "output_type": "stream",
     "text": [
      "                                                                                     \r"
     ]
    },
    {
     "name": "stdout",
     "output_type": "stream",
     "text": [
      "[epoch 027] epoch=27.0000 train_loss=0.0629 val_loss=0.0636 val_psnr=21.0549 val_ssim=0.6440\n"
     ]
    },
    {
     "name": "stderr",
     "output_type": "stream",
     "text": [
      "                                                                                     \r"
     ]
    },
    {
     "name": "stdout",
     "output_type": "stream",
     "text": [
      "[epoch 028] epoch=28.0000 train_loss=0.0628 val_loss=0.0628 val_psnr=21.0917 val_ssim=0.6469\n"
     ]
    },
    {
     "name": "stderr",
     "output_type": "stream",
     "text": [
      "                                                                                     \r"
     ]
    },
    {
     "name": "stdout",
     "output_type": "stream",
     "text": [
      "[epoch 029] epoch=29.0000 train_loss=0.0625 val_loss=0.0626 val_psnr=21.1061 val_ssim=0.6480\n"
     ]
    },
    {
     "name": "stderr",
     "output_type": "stream",
     "text": [
      "                                                                                     \r"
     ]
    },
    {
     "name": "stdout",
     "output_type": "stream",
     "text": [
      "[epoch 030] epoch=30.0000 train_loss=0.0625 val_loss=0.0623 val_psnr=21.1649 val_ssim=0.6461\n"
     ]
    },
    {
     "name": "stderr",
     "output_type": "stream",
     "text": [
      "                                                                                     \r"
     ]
    },
    {
     "name": "stdout",
     "output_type": "stream",
     "text": [
      "[epoch 031] epoch=31.0000 train_loss=0.0622 val_loss=0.0625 val_psnr=21.1662 val_ssim=0.6458\n"
     ]
    },
    {
     "name": "stderr",
     "output_type": "stream",
     "text": [
      "                                                                                     \r"
     ]
    },
    {
     "name": "stdout",
     "output_type": "stream",
     "text": [
      "[epoch 032] epoch=32.0000 train_loss=0.0620 val_loss=0.0621 val_psnr=21.1628 val_ssim=0.6508\n"
     ]
    },
    {
     "name": "stderr",
     "output_type": "stream",
     "text": [
      "                                                                                     \r"
     ]
    },
    {
     "name": "stdout",
     "output_type": "stream",
     "text": [
      "[epoch 033] epoch=33.0000 train_loss=0.0619 val_loss=0.0620 val_psnr=21.1640 val_ssim=0.6525\n"
     ]
    },
    {
     "name": "stderr",
     "output_type": "stream",
     "text": [
      "                                                                                     \r"
     ]
    },
    {
     "name": "stdout",
     "output_type": "stream",
     "text": [
      "[epoch 034] epoch=34.0000 train_loss=0.0619 val_loss=0.0624 val_psnr=21.1669 val_ssim=0.6524\n"
     ]
    },
    {
     "name": "stderr",
     "output_type": "stream",
     "text": [
      "                                                                                     \r"
     ]
    },
    {
     "name": "stdout",
     "output_type": "stream",
     "text": [
      "[epoch 035] epoch=35.0000 train_loss=0.0616 val_loss=0.0620 val_psnr=21.1969 val_ssim=0.6547\n"
     ]
    },
    {
     "name": "stderr",
     "output_type": "stream",
     "text": [
      "                                                                                     \r"
     ]
    },
    {
     "name": "stdout",
     "output_type": "stream",
     "text": [
      "[epoch 036] epoch=36.0000 train_loss=0.0616 val_loss=0.0616 val_psnr=21.2348 val_ssim=0.6536\n"
     ]
    },
    {
     "name": "stderr",
     "output_type": "stream",
     "text": [
      "                                                                                     \r"
     ]
    },
    {
     "name": "stdout",
     "output_type": "stream",
     "text": [
      "[epoch 037] epoch=37.0000 train_loss=0.0613 val_loss=0.0621 val_psnr=21.1469 val_ssim=0.6535\n"
     ]
    },
    {
     "name": "stderr",
     "output_type": "stream",
     "text": [
      "                                                                                     \r"
     ]
    },
    {
     "name": "stdout",
     "output_type": "stream",
     "text": [
      "[epoch 038] epoch=38.0000 train_loss=0.0613 val_loss=0.0621 val_psnr=21.1803 val_ssim=0.6571\n"
     ]
    },
    {
     "name": "stderr",
     "output_type": "stream",
     "text": [
      "                                                                                     \r"
     ]
    },
    {
     "name": "stdout",
     "output_type": "stream",
     "text": [
      "[epoch 039] epoch=39.0000 train_loss=0.0612 val_loss=0.0613 val_psnr=21.2567 val_ssim=0.6564\n"
     ]
    },
    {
     "name": "stderr",
     "output_type": "stream",
     "text": [
      "                                                                                     \r"
     ]
    },
    {
     "name": "stdout",
     "output_type": "stream",
     "text": [
      "[epoch 040] epoch=40.0000 train_loss=0.0612 val_loss=0.0617 val_psnr=21.2198 val_ssim=0.6487\n"
     ]
    },
    {
     "name": "stderr",
     "output_type": "stream",
     "text": [
      "                                                                                     \r"
     ]
    },
    {
     "name": "stdout",
     "output_type": "stream",
     "text": [
      "[epoch 041] epoch=41.0000 train_loss=0.0609 val_loss=0.0615 val_psnr=21.2376 val_ssim=0.6561\n"
     ]
    },
    {
     "name": "stderr",
     "output_type": "stream",
     "text": [
      "                                                                                     \r"
     ]
    },
    {
     "name": "stdout",
     "output_type": "stream",
     "text": [
      "[epoch 042] epoch=42.0000 train_loss=0.0609 val_loss=0.0616 val_psnr=21.2799 val_ssim=0.6541\n"
     ]
    },
    {
     "name": "stderr",
     "output_type": "stream",
     "text": [
      "                                                                                     \r"
     ]
    },
    {
     "name": "stdout",
     "output_type": "stream",
     "text": [
      "[epoch 043] epoch=43.0000 train_loss=0.0607 val_loss=0.0611 val_psnr=21.3009 val_ssim=0.6606\n"
     ]
    },
    {
     "name": "stderr",
     "output_type": "stream",
     "text": [
      "                                                                                     \r"
     ]
    },
    {
     "name": "stdout",
     "output_type": "stream",
     "text": [
      "[epoch 044] epoch=44.0000 train_loss=0.0607 val_loss=0.0610 val_psnr=21.3213 val_ssim=0.6568\n"
     ]
    },
    {
     "name": "stderr",
     "output_type": "stream",
     "text": [
      "                                                                                     \r"
     ]
    },
    {
     "name": "stdout",
     "output_type": "stream",
     "text": [
      "[epoch 045] epoch=45.0000 train_loss=0.0606 val_loss=0.0610 val_psnr=21.3180 val_ssim=0.6576\n"
     ]
    },
    {
     "name": "stderr",
     "output_type": "stream",
     "text": [
      "                                                                                     \r"
     ]
    },
    {
     "name": "stdout",
     "output_type": "stream",
     "text": [
      "[epoch 046] epoch=46.0000 train_loss=0.0605 val_loss=0.0610 val_psnr=21.3389 val_ssim=0.6612\n"
     ]
    },
    {
     "name": "stderr",
     "output_type": "stream",
     "text": [
      "                                                                                     \r"
     ]
    },
    {
     "name": "stdout",
     "output_type": "stream",
     "text": [
      "[epoch 047] epoch=47.0000 train_loss=0.0604 val_loss=0.0608 val_psnr=21.3674 val_ssim=0.6635\n"
     ]
    },
    {
     "name": "stderr",
     "output_type": "stream",
     "text": [
      "                                                                                     \r"
     ]
    },
    {
     "name": "stdout",
     "output_type": "stream",
     "text": [
      "[epoch 048] epoch=48.0000 train_loss=0.0603 val_loss=0.0604 val_psnr=21.3814 val_ssim=0.6618\n"
     ]
    },
    {
     "name": "stderr",
     "output_type": "stream",
     "text": [
      "                                                                                     "
     ]
    },
    {
     "name": "stdout",
     "output_type": "stream",
     "text": [
      "[epoch 049] epoch=49.0000 train_loss=0.0603 val_loss=0.0611 val_psnr=21.2943 val_ssim=0.6653\n"
     ]
    },
    {
     "name": "stderr",
     "output_type": "stream",
     "text": [
      "\r"
     ]
    }
   ],
   "source": [
    "import torch\n",
    "from torch.optim import AdamW\n",
    "from torch.utils.data import DataLoader\n",
    "from torchvision import datasets, transforms\n",
    "\n",
    "from semantics.pipeline import Pipeline\n",
    "from semantics.train import Trainer, TrainerConfig\n",
    "import semantics.vision as sv\n",
    "\n",
    "# Configuration\n",
    "batch_size = 128\n",
    "img_size = 32\n",
    "patch_size = 2\n",
    "num_channels = 3\n",
    "modulation = True\n",
    "channel_mean = 0.0\n",
    "channel_std = 0.1\n",
    "channel_snr = 10.0\n",
    "channel_avg_power = None\n",
    "\n",
    "embed_dims = [32, 64, 128, 256]\n",
    "depths = [2, 2, 2, 2]\n",
    "num_heads = [4, 8, 8, 8]\n",
    "latent_C = 32\n",
    "\n",
    "device = torch.device(\"cuda\" if torch.cuda.is_available() else \"cpu\")\n",
    "\n",
    "# Encoder / Decoder / Channel configs\n",
    "encoder_cfg = {\n",
    "    \"img_size\": img_size,\n",
    "    \"patch_size\": patch_size,\n",
    "    \"embed_dims\": embed_dims,\n",
    "    \"depths\": depths,\n",
    "    \"num_heads\": num_heads,\n",
    "    \"C_out\": latent_C,\n",
    "    \"window_size\": 4,\n",
    "    \"use_modulation\": modulation,\n",
    "    \"in_chans\": num_channels,\n",
    "}\n",
    "\n",
    "decoder_cfg = {\n",
    "    \"img_size\": img_size,\n",
    "    \"patch_size\": patch_size,\n",
    "    \"embed_dims\": list(reversed(embed_dims)),\n",
    "    \"depths\": list(reversed(depths)),\n",
    "    \"num_heads\": list(reversed(num_heads)),\n",
    "    \"C_in\": latent_C,\n",
    "    \"window_size\": 4,\n",
    "    \"use_modulation\": modulation,\n",
    "    \"out_chans\": num_channels,\n",
    "}\n",
    "\n",
    "channel_cfg = {\n",
    "    \"mean\": channel_mean,\n",
    "    \"std\": channel_std,\n",
    "    \"snr\": channel_snr,\n",
    "    \"avg_power\": channel_avg_power,\n",
    "}\n",
    "\n",
    "# Encoder / Decoder / Channel\n",
    "encoder = sv.WITTEncoder(**encoder_cfg).to(device)\n",
    "decoder = sv.WITTDecoder(**decoder_cfg).to(device)\n",
    "channel = sv.AWGNChannel(**channel_cfg).to(device)\n",
    "\n",
    "pipeline = Pipeline(encoder, channel, decoder).to(device)\n",
    "\n",
    "# Data\n",
    "transform = transforms.Compose([\n",
    "    transforms.Resize((img_size, img_size)),\n",
    "    transforms.ToTensor(),\n",
    "])\n",
    "\n",
    "train_ds = datasets.CIFAR10(\"./data\", train=True, download=True, transform=transform)\n",
    "val_ds = datasets.CIFAR10(\"./data\", train=False, download=True, transform=transform)\n",
    "\n",
    "pin = torch.cuda.is_available()\n",
    "train_loader = DataLoader(train_ds, batch_size=batch_size, shuffle=True, num_workers=4, pin_memory=pin)\n",
    "val_loader = DataLoader(val_ds, batch_size=batch_size, shuffle=False, num_workers=4, pin_memory=pin)\n",
    "\n",
    "# Optimizer / Loss / Metrics\n",
    "optimizer = AdamW(pipeline.parameters(), lr=3e-4)\n",
    "criterion = torch.nn.L1Loss()\n",
    "metrics = {\n",
    "    \"psnr\": sv.PSNRMetric(),\n",
    "    \"ssim\": sv.SSIMMetric(data_range=1.0, size_average=True, channel=3),\n",
    "}\n",
    "\n",
    "# Trainer\n",
    "cfg = TrainerConfig(\n",
    "    num_epochs=50,\n",
    "    use_amp=True,\n",
    "    amp_dtype=\"auto\",\n",
    "    grad_accum_steps=1,\n",
    "    clip_grad_norm=1.0,\n",
    "    compile_model=False,\n",
    ")\n",
    "\n",
    "trainer = Trainer(\n",
    "    pipeline=pipeline,\n",
    "    optimizer=optimizer,\n",
    "    train_loader=train_loader,\n",
    "    val_loader=val_loader,\n",
    "    loss_fn=criterion,\n",
    "    config=cfg,\n",
    "    metrics=metrics,\n",
    ")\n",
    "\n",
    "trainer.train()\n"
   ]
  },
  {
   "cell_type": "code",
   "execution_count": 2,
   "id": "c21523cd",
   "metadata": {},
   "outputs": [
    {
     "data": {
      "image/png": "[encoded data removed]",
      "text/plain": [
       "<Figure size 1800x500 with 3 Axes>"
      ]
     },
     "metadata": {},
     "output_type": "display_data"
    }
   ],
   "source": [
    "import matplotlib.pyplot as plt\n",
    "\n",
    "history = trainer.history\n",
    "\n",
    "fig, axes = plt.subplots(1, 3, figsize=(18, 5))\n",
    "\n",
    "# Train & Val Loss\n",
    "axes[0].plot(history[\"train_loss\"], label=\"Train Loss\")\n",
    "axes[0].plot(history[\"val_loss\"], label=\"Val Loss\")\n",
    "axes[0].set_title(\"Loss\")\n",
    "axes[0].set_xlabel(\"Epoch\")\n",
    "axes[0].set_ylabel(\"Loss\")\n",
    "axes[0].legend()\n",
    "axes[0].grid()\n",
    "\n",
    "# PSNR\n",
    "axes[1].plot(history[\"val_psnr\"], label=\"Val PSNR\")\n",
    "axes[1].set_title(\"PSNR\")\n",
    "axes[1].set_xlabel(\"Epoch\")\n",
    "axes[1].set_ylabel(\"PSNR (dB)\")\n",
    "axes[1].legend()\n",
    "axes[1].grid()\n",
    "\n",
    "# SSIM\n",
    "axes[2].plot(history[\"val_ssim\"], label=\"Val SSIM\")\n",
    "axes[2].set_title(\"SSIM\")\n",
    "axes[2].set_xlabel(\"Epoch\")\n",
    "axes[2].set_ylabel(\"SSIM\")\n",
    "axes[2].legend()\n",
    "axes[2].grid()\n",
    "\n",
    "plt.tight_layout()\n",
    "plt.show()"
   ]
  },
  {
   "cell_type": "code",
   "execution_count": 3,
   "id": "be938af9",
   "metadata": {},
   "outputs": [
    {
     "data": {
      "image/png": "[encoded data removed]",
      "text/plain": [
       "<Figure size 600x1500 with 10 Axes>"
      ]
     },
     "metadata": {},
     "output_type": "display_data"
    }
   ],
   "source": [
    "import numpy as np\n",
    "\n",
    "# Get a batch of images from the validation loader\n",
    "images, _ = next(iter(val_loader))\n",
    "images = images.to(device)\n",
    "\n",
    "# Pass images through the pipeline\n",
    "ckpt_path = \"checkpoints/best.pt\"\n",
    "trainer.load(ckpt_path)\n",
    "pipeline = trainer.pipeline\n",
    "with torch.no_grad():\n",
    "    outputs, _ = pipeline(images)\n",
    "\n",
    "# Move tensors to CPU and convert to numpy\n",
    "inputs_np = images.cpu().numpy()\n",
    "outputs_np = outputs.cpu().numpy()\n",
    "\n",
    "# Visualize first 5 images: input and output side by side\n",
    "fig, axes = plt.subplots(5, 2, figsize=(6, 15))\n",
    "for i in range(5):\n",
    "    # Input image\n",
    "    axes[i, 0].imshow(np.transpose(inputs_np[i], (1, 2, 0)))\n",
    "    axes[i, 0].set_title(\"Input\")\n",
    "    axes[i, 0].axis(\"off\")\n",
    "    # Output image\n",
    "    axes[i, 1].imshow(np.transpose(outputs_np[i], (1, 2, 0)))\n",
    "    axes[i, 1].set_title(\"Output\")\n",
    "    axes[i, 1].axis(\"off\")\n",
    "plt.tight_layout()\n",
    "plt.show()"
   ]
  },
  {
   "cell_type": "code",
   "execution_count": null,
   "id": "9c9a258e",
   "metadata": {},
   "outputs": [],
   "source": []
  }
 ],
 "metadata": {
  "kernelspec": {
   "display_name": "semantics",
   "language": "python",
   "name": "python3"
  },
  "language_info": {
   "codemirror_mode": {
    "name": "ipython",
    "version": 3
   },
   "file_extension": ".py",
   "mimetype": "text/x-python",
   "name": "python",
   "nbconvert_exporter": "python",
   "pygments_lexer": "ipython3",
   "version": "3.12.11"
  }
 },
 "nbformat": 4,
 "nbformat_minor": 5
}
