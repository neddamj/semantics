{
 "cells": [
  {
   "cell_type": "markdown",
   "id": "aa4760cc",
   "metadata": {},
   "source": [
    "# Train the semantic classifier"
   ]
  },
  {
   "cell_type": "code",
   "execution_count": 1,
   "id": "a27961e4",
   "metadata": {},
   "outputs": [
    {
     "name": "stderr",
     "output_type": "stream",
     "text": [
      "                                                                                    \r"
     ]
    },
    {
     "name": "stdout",
     "output_type": "stream",
     "text": [
      "[epoch 000] epoch=0.0000 train_loss=0.8878 val_loss=0.5028 val_acc=0.8252\n"
     ]
    },
    {
     "name": "stderr",
     "output_type": "stream",
     "text": [
      "                                                                                    \r"
     ]
    },
    {
     "name": "stdout",
     "output_type": "stream",
     "text": [
      "[epoch 001] epoch=1.0000 train_loss=0.3697 val_loss=0.4122 val_acc=0.8591\n"
     ]
    },
    {
     "name": "stderr",
     "output_type": "stream",
     "text": [
      "                                                                                    \r"
     ]
    },
    {
     "name": "stdout",
     "output_type": "stream",
     "text": [
      "[epoch 002] epoch=2.0000 train_loss=0.2160 val_loss=0.4321 val_acc=0.8652\n"
     ]
    },
    {
     "name": "stderr",
     "output_type": "stream",
     "text": [
      "                                                                                    \r"
     ]
    },
    {
     "name": "stdout",
     "output_type": "stream",
     "text": [
      "[epoch 003] epoch=3.0000 train_loss=0.1425 val_loss=0.4706 val_acc=0.8660\n"
     ]
    },
    {
     "name": "stderr",
     "output_type": "stream",
     "text": [
      "                                                                                    \r"
     ]
    },
    {
     "name": "stdout",
     "output_type": "stream",
     "text": [
      "[epoch 004] epoch=4.0000 train_loss=0.1069 val_loss=0.4631 val_acc=0.8698\n"
     ]
    },
    {
     "name": "stderr",
     "output_type": "stream",
     "text": [
      "                                                                                    \r"
     ]
    },
    {
     "name": "stdout",
     "output_type": "stream",
     "text": [
      "[epoch 005] epoch=5.0000 train_loss=0.0858 val_loss=0.4890 val_acc=0.8721\n"
     ]
    },
    {
     "name": "stderr",
     "output_type": "stream",
     "text": [
      "                                                                                    \r"
     ]
    },
    {
     "name": "stdout",
     "output_type": "stream",
     "text": [
      "[epoch 006] epoch=6.0000 train_loss=0.0730 val_loss=0.5300 val_acc=0.8740\n"
     ]
    },
    {
     "name": "stderr",
     "output_type": "stream",
     "text": [
      "                                                                                    \r"
     ]
    },
    {
     "name": "stdout",
     "output_type": "stream",
     "text": [
      "[epoch 007] epoch=7.0000 train_loss=0.0659 val_loss=0.5585 val_acc=0.8689\n"
     ]
    },
    {
     "name": "stderr",
     "output_type": "stream",
     "text": [
      "                                                                                    \r"
     ]
    },
    {
     "name": "stdout",
     "output_type": "stream",
     "text": [
      "[epoch 008] epoch=8.0000 train_loss=0.0564 val_loss=0.5473 val_acc=0.8729\n"
     ]
    },
    {
     "name": "stderr",
     "output_type": "stream",
     "text": [
      "                                                                                     \r"
     ]
    },
    {
     "name": "stdout",
     "output_type": "stream",
     "text": [
      "[epoch 009] epoch=9.0000 train_loss=0.0510 val_loss=0.5531 val_acc=0.8735\n"
     ]
    },
    {
     "name": "stderr",
     "output_type": "stream",
     "text": [
      "                                                                                     \r"
     ]
    },
    {
     "name": "stdout",
     "output_type": "stream",
     "text": [
      "[epoch 010] epoch=10.0000 train_loss=0.0499 val_loss=0.5807 val_acc=0.8771\n"
     ]
    },
    {
     "name": "stderr",
     "output_type": "stream",
     "text": [
      "                                                                                     \r"
     ]
    },
    {
     "name": "stdout",
     "output_type": "stream",
     "text": [
      "[epoch 011] epoch=11.0000 train_loss=0.0456 val_loss=0.5734 val_acc=0.8761\n"
     ]
    },
    {
     "name": "stderr",
     "output_type": "stream",
     "text": [
      "                                                                                     \r"
     ]
    },
    {
     "name": "stdout",
     "output_type": "stream",
     "text": [
      "[epoch 012] epoch=12.0000 train_loss=0.0458 val_loss=0.5997 val_acc=0.8739\n"
     ]
    },
    {
     "name": "stderr",
     "output_type": "stream",
     "text": [
      "                                                                                     \r"
     ]
    },
    {
     "name": "stdout",
     "output_type": "stream",
     "text": [
      "[epoch 013] epoch=13.0000 train_loss=0.0425 val_loss=0.6290 val_acc=0.8745\n"
     ]
    },
    {
     "name": "stderr",
     "output_type": "stream",
     "text": [
      "                                                                                     \r"
     ]
    },
    {
     "name": "stdout",
     "output_type": "stream",
     "text": [
      "[epoch 014] epoch=14.0000 train_loss=0.0398 val_loss=0.5634 val_acc=0.8781\n"
     ]
    },
    {
     "name": "stderr",
     "output_type": "stream",
     "text": [
      "                                                                                     \r"
     ]
    },
    {
     "name": "stdout",
     "output_type": "stream",
     "text": [
      "[epoch 015] epoch=15.0000 train_loss=0.0356 val_loss=0.6236 val_acc=0.8754\n"
     ]
    },
    {
     "name": "stderr",
     "output_type": "stream",
     "text": [
      "                                                                                     \r"
     ]
    },
    {
     "name": "stdout",
     "output_type": "stream",
     "text": [
      "[epoch 016] epoch=16.0000 train_loss=0.0346 val_loss=0.6025 val_acc=0.8773\n"
     ]
    },
    {
     "name": "stderr",
     "output_type": "stream",
     "text": [
      "                                                                                     \r"
     ]
    },
    {
     "name": "stdout",
     "output_type": "stream",
     "text": [
      "[epoch 017] epoch=17.0000 train_loss=0.0349 val_loss=0.6179 val_acc=0.8756\n"
     ]
    },
    {
     "name": "stderr",
     "output_type": "stream",
     "text": [
      "                                                                                     \r"
     ]
    },
    {
     "name": "stdout",
     "output_type": "stream",
     "text": [
      "[epoch 018] epoch=18.0000 train_loss=0.0318 val_loss=0.6440 val_acc=0.8754\n"
     ]
    },
    {
     "name": "stderr",
     "output_type": "stream",
     "text": [
      "                                                                                     "
     ]
    },
    {
     "name": "stdout",
     "output_type": "stream",
     "text": [
      "[epoch 019] epoch=19.0000 train_loss=0.0299 val_loss=0.7075 val_acc=0.8750\n"
     ]
    },
    {
     "name": "stderr",
     "output_type": "stream",
     "text": [
      "\r"
     ]
    }
   ],
   "source": [
    "import torch\n",
    "from torch.optim import AdamW\n",
    "from torch.utils.data import DataLoader\n",
    "from torchvision import datasets, transforms\n",
    "\n",
    "from semantics.train import Trainer, TrainerConfig\n",
    "from semantics.classifiers import ResNet50\n",
    "\n",
    "# --- Model ---\n",
    "classifier = ResNet50(\n",
    "        num_classes=10, \n",
    "        in_channels=3, \n",
    "        pretrained=True, \n",
    "        freeze_backbone=False, \n",
    "        dropout=0.2\n",
    "    )\n",
    "device = torch.device(\"cuda\" if torch.cuda.is_available() else \"cpu\")\n",
    "classifier = classifier.to(device)\n",
    "\n",
    "# --- Data ---\n",
    "img_size = 32\n",
    "transform = transforms.Compose([\n",
    "    transforms.Resize((img_size, img_size)),\n",
    "    transforms.ToTensor(),\n",
    "    transforms.Normalize(mean=(0.4914, 0.4822, 0.4465),\n",
    "                         std=(0.2470, 0.2435, 0.2616)),\n",
    "])\n",
    "\n",
    "train_ds = datasets.CIFAR10(\"./data\", train=True, download=True, transform=transform)\n",
    "val_ds = datasets.CIFAR10(\"./data\", train=False, download=True, transform=transform)\n",
    "\n",
    "pin = torch.cuda.is_available()\n",
    "train_loader = DataLoader(train_ds, batch_size=128, shuffle=True, num_workers=4, pin_memory=pin)\n",
    "val_loader = DataLoader(val_ds, batch_size=256, shuffle=False, num_workers=4, pin_memory=pin)\n",
    "\n",
    "# --- Optimizer / Loss / Metrics ---\n",
    "optimizer = AdamW(classifier.parameters(), lr=3e-4)\n",
    "criterion = torch.nn.CrossEntropyLoss()\n",
    "def accuracy(logits: torch.Tensor, targets: torch.Tensor) -> float:\n",
    "    preds = logits.argmax(dim=1)\n",
    "    return (preds == targets).float().mean().item()\n",
    "\n",
    "metrics = {\n",
    "    \"acc\": accuracy,\n",
    "}\n",
    "\n",
    "cfg = TrainerConfig(\n",
    "    num_epochs=20,\n",
    "    use_amp=True,\n",
    "    task=\"supervised\",\n",
    "    amp_dtype=\"auto\",\n",
    "    grad_accum_steps=1,\n",
    "    clip_grad_norm=1.0,\n",
    "    compile_model=False,\n",
    "    ckpt_path=\"./checkpoints/resnet_classifier\"\n",
    ")\n",
    "\n",
    "trainer = Trainer(\n",
    "    pipeline=classifier,       # your model\n",
    "    optimizer=optimizer,\n",
    "    train_loader=train_loader,\n",
    "    val_loader=val_loader,\n",
    "    loss_fn=criterion,         \n",
    "    config=cfg,\n",
    "    metrics=metrics,\n",
    ")\n",
    "\n",
    "trainer.train()\n"
   ]
  },
  {
   "cell_type": "code",
   "execution_count": 13,
   "id": "9e178bcd",
   "metadata": {},
   "outputs": [
    {
     "data": {
      "image/png": "[encoded data removed]",
      "text/plain": [
       "<Figure size 800x600 with 2 Axes>"
      ]
     },
     "metadata": {},
     "output_type": "display_data"
    }
   ],
   "source": [
    "import seaborn as sns\n",
    "from sklearn.metrics import confusion_matrix\n",
    "\n",
    "import matplotlib.pyplot as plt\n",
    "\n",
    "# Switch to evaluation mode\n",
    "classifier.eval()\n",
    "\n",
    "# Example: Make predictions on the validation set\n",
    "with torch.no_grad():\n",
    "    for images, _ in val_loader:\n",
    "        images = images.to(device)\n",
    "        outputs = classifier(images)\n",
    "        preds = outputs.argmax(dim=1)\n",
    "        break  # Remove this break to process the entire validation set\n",
    "\n",
    "# Get true labels for the batch shown in preds\n",
    "_, targets = next(iter(val_loader))\n",
    "targets = targets.to(device)\n",
    "\n",
    "# Compute confusion matrix\n",
    "cm = confusion_matrix(targets.cpu().numpy(), preds.cpu().numpy())\n",
    "\n",
    "plt.figure(figsize=(8, 6))\n",
    "sns.heatmap(cm, annot=True, fmt='d', cmap='Blues')\n",
    "plt.xlabel('Predicted')\n",
    "plt.ylabel('True')\n",
    "plt.title('Confusion Matrix')\n",
    "plt.show()"
   ]
  },
  {
   "cell_type": "code",
   "execution_count": null,
   "id": "eefb1286",
   "metadata": {},
   "outputs": [],
   "source": [
    "\n",
    "\n"
   ]
  }
 ],
 "metadata": {
  "kernelspec": {
   "display_name": "semantics",
   "language": "python",
   "name": "python3"
  },
  "language_info": {
   "codemirror_mode": {
    "name": "ipython",
    "version": 3
   },
   "file_extension": ".py",
   "mimetype": "text/x-python",
   "name": "python",
   "nbconvert_exporter": "python",
   "pygments_lexer": "ipython3",
   "version": "3.12.11"
  }
 },
 "nbformat": 4,
 "nbformat_minor": 5
}
